{
 "cells": [
  {
   "cell_type": "code",
   "execution_count": 2,
   "metadata": {},
   "outputs": [],
   "source": [
    "import numpy as np"
   ]
  },
  {
   "cell_type": "markdown",
   "metadata": {},
   "source": [
    "numpy array can be multidimentional array"
   ]
  },
  {
   "cell_type": "code",
   "execution_count": 3,
   "metadata": {},
   "outputs": [
    {
     "data": {
      "text/plain": [
       "numpy.ndarray"
      ]
     },
     "execution_count": 3,
     "metadata": {},
     "output_type": "execute_result"
    }
   ],
   "source": [
    "x=np.array([3,4,5,677,1])\n",
    "x\n",
    "type(x)"
   ]
  },
  {
   "cell_type": "code",
   "execution_count": 4,
   "metadata": {},
   "outputs": [
    {
     "data": {
      "text/plain": [
       "array([ 3,  6,  7, 45,  6])"
      ]
     },
     "execution_count": 4,
     "metadata": {},
     "output_type": "execute_result"
    }
   ],
   "source": [
    "y=np.array((3,6,7,45,6))\n",
    "y"
   ]
  },
  {
   "cell_type": "code",
   "execution_count": 5,
   "metadata": {},
   "outputs": [
    {
     "data": {
      "text/plain": [
       "numpy.ndarray"
      ]
     },
     "execution_count": 5,
     "metadata": {},
     "output_type": "execute_result"
    }
   ],
   "source": [
    "type(y)"
   ]
  },
  {
   "cell_type": "markdown",
   "metadata": {},
   "source": [
    "shape=rows and columns\n",
    "\n",
    "sizw=num of elements"
   ]
  },
  {
   "cell_type": "code",
   "execution_count": 6,
   "metadata": {},
   "outputs": [
    {
     "data": {
      "text/plain": [
       "(5,)"
      ]
     },
     "execution_count": 6,
     "metadata": {},
     "output_type": "execute_result"
    }
   ],
   "source": [
    "x.shape"
   ]
  },
  {
   "cell_type": "code",
   "execution_count": 7,
   "metadata": {},
   "outputs": [
    {
     "data": {
      "text/plain": [
       "5"
      ]
     },
     "execution_count": 7,
     "metadata": {},
     "output_type": "execute_result"
    }
   ],
   "source": [
    "x.size"
   ]
  },
  {
   "cell_type": "code",
   "execution_count": 8,
   "metadata": {},
   "outputs": [],
   "source": [
    "z=np.array([[1,24],[3,4],[4,66]])"
   ]
  },
  {
   "cell_type": "code",
   "execution_count": 9,
   "metadata": {},
   "outputs": [
    {
     "data": {
      "text/plain": [
       "array([[ 1, 24],\n",
       "       [ 3,  4],\n",
       "       [ 4, 66]])"
      ]
     },
     "execution_count": 9,
     "metadata": {},
     "output_type": "execute_result"
    }
   ],
   "source": [
    "z"
   ]
  },
  {
   "cell_type": "code",
   "execution_count": 10,
   "metadata": {},
   "outputs": [
    {
     "data": {
      "text/plain": [
       "(3, 2)"
      ]
     },
     "execution_count": 10,
     "metadata": {},
     "output_type": "execute_result"
    }
   ],
   "source": [
    "z.shape"
   ]
  },
  {
   "cell_type": "code",
   "execution_count": 11,
   "metadata": {},
   "outputs": [
    {
     "data": {
      "text/plain": [
       "6"
      ]
     },
     "execution_count": 11,
     "metadata": {},
     "output_type": "execute_result"
    }
   ],
   "source": [
    "z.size"
   ]
  },
  {
   "cell_type": "code",
   "execution_count": 12,
   "metadata": {},
   "outputs": [
    {
     "data": {
      "text/plain": [
       "2"
      ]
     },
     "execution_count": 12,
     "metadata": {},
     "output_type": "execute_result"
    }
   ],
   "source": [
    "z.ndim"
   ]
  },
  {
   "cell_type": "code",
   "execution_count": 13,
   "metadata": {},
   "outputs": [
    {
     "data": {
      "text/plain": [
       "array([[ 1, 24,  3],\n",
       "       [ 4,  4, 66]])"
      ]
     },
     "execution_count": 13,
     "metadata": {},
     "output_type": "execute_result"
    }
   ],
   "source": [
    "z.reshape(2,3)"
   ]
  },
  {
   "cell_type": "code",
   "execution_count": 14,
   "metadata": {},
   "outputs": [],
   "source": [
    "a=np.array([[[23,45,67],[3,66,89]],[[23,89,122],[2,6,900]]])\n"
   ]
  },
  {
   "cell_type": "code",
   "execution_count": 15,
   "metadata": {},
   "outputs": [
    {
     "data": {
      "text/plain": [
       "array([[[ 23,  45,  67],\n",
       "        [  3,  66,  89]],\n",
       "\n",
       "       [[ 23,  89, 122],\n",
       "        [  2,   6, 900]]])"
      ]
     },
     "execution_count": 15,
     "metadata": {},
     "output_type": "execute_result"
    }
   ],
   "source": [
    "a"
   ]
  },
  {
   "cell_type": "code",
   "execution_count": 16,
   "metadata": {},
   "outputs": [
    {
     "data": {
      "text/plain": [
       "(2, 2, 3)"
      ]
     },
     "execution_count": 16,
     "metadata": {},
     "output_type": "execute_result"
    }
   ],
   "source": [
    "a.shape"
   ]
  },
  {
   "cell_type": "code",
   "execution_count": 17,
   "metadata": {},
   "outputs": [
    {
     "data": {
      "text/plain": [
       "12"
      ]
     },
     "execution_count": 17,
     "metadata": {},
     "output_type": "execute_result"
    }
   ],
   "source": [
    "a.size"
   ]
  },
  {
   "cell_type": "code",
   "execution_count": 18,
   "metadata": {},
   "outputs": [
    {
     "data": {
      "text/plain": [
       "array([[[ 23,  45],\n",
       "        [ 67,   3],\n",
       "        [ 66,  89]],\n",
       "\n",
       "       [[ 23,  89],\n",
       "        [122,   2],\n",
       "        [  6, 900]]])"
      ]
     },
     "execution_count": 18,
     "metadata": {},
     "output_type": "execute_result"
    }
   ],
   "source": [
    "a.reshape(2,3,2)"
   ]
  },
  {
   "cell_type": "code",
   "execution_count": 19,
   "metadata": {},
   "outputs": [
    {
     "data": {
      "text/plain": [
       "2"
      ]
     },
     "execution_count": 19,
     "metadata": {},
     "output_type": "execute_result"
    }
   ],
   "source": [
    "np.min(a)"
   ]
  },
  {
   "cell_type": "code",
   "execution_count": 20,
   "metadata": {},
   "outputs": [
    {
     "data": {
      "text/plain": [
       "900"
      ]
     },
     "execution_count": 20,
     "metadata": {},
     "output_type": "execute_result"
    }
   ],
   "source": [
    "np.max(a)"
   ]
  },
  {
   "cell_type": "code",
   "execution_count": 21,
   "metadata": {},
   "outputs": [
    {
     "data": {
      "text/plain": [
       "array([[ 46, 134, 189],\n",
       "       [  5,  72, 989]])"
      ]
     },
     "execution_count": 21,
     "metadata": {},
     "output_type": "execute_result"
    }
   ],
   "source": [
    "np.sum(a,axis=0)"
   ]
  },
  {
   "cell_type": "code",
   "execution_count": 22,
   "metadata": {},
   "outputs": [
    {
     "name": "stdout",
     "output_type": "stream",
     "text": [
      "[0 1 2 3 4 5 6 7 8 9]\n"
     ]
    }
   ],
   "source": [
    "z1=np.arange(10)\n",
    "print(z1)"
   ]
  },
  {
   "cell_type": "code",
   "execution_count": 23,
   "metadata": {},
   "outputs": [],
   "source": [
    "c=np.array([[1,2,3],[4,5,6]])\n"
   ]
  },
  {
   "cell_type": "code",
   "execution_count": 24,
   "metadata": {},
   "outputs": [
    {
     "data": {
      "text/plain": [
       "array([[1, 2, 3],\n",
       "       [4, 5, 6]])"
      ]
     },
     "execution_count": 24,
     "metadata": {},
     "output_type": "execute_result"
    }
   ],
   "source": [
    "c"
   ]
  },
  {
   "cell_type": "code",
   "execution_count": 25,
   "metadata": {},
   "outputs": [
    {
     "data": {
      "text/plain": [
       "6"
      ]
     },
     "execution_count": 25,
     "metadata": {},
     "output_type": "execute_result"
    }
   ],
   "source": [
    "c[1,2]"
   ]
  },
  {
   "cell_type": "code",
   "execution_count": 26,
   "metadata": {},
   "outputs": [
    {
     "name": "stdout",
     "output_type": "stream",
     "text": [
      "1\n",
      "2\n",
      "3\n"
     ]
    }
   ],
   "source": [
    "for i in c[0]:\n",
    "    print(i)"
   ]
  },
  {
   "cell_type": "code",
   "execution_count": 27,
   "metadata": {},
   "outputs": [
    {
     "data": {
      "text/plain": [
       "dtype('int32')"
      ]
     },
     "execution_count": 27,
     "metadata": {},
     "output_type": "execute_result"
    }
   ],
   "source": [
    "np.dtype(c[0,1])"
   ]
  },
  {
   "cell_type": "code",
   "execution_count": 28,
   "metadata": {},
   "outputs": [
    {
     "data": {
      "text/plain": [
       "array([34,  9, 65, 40, 63, 38, 91, 55, 12])"
      ]
     },
     "execution_count": 28,
     "metadata": {},
     "output_type": "execute_result"
    }
   ],
   "source": [
    "np.random.randint(1,100,9)"
   ]
  },
  {
   "cell_type": "code",
   "execution_count": 29,
   "metadata": {},
   "outputs": [
    {
     "data": {
      "text/plain": [
       "array([0.28203539, 0.06841151, 0.68774704, 0.87263057, 0.91234048,\n",
       "       0.87567501, 0.48841955, 0.24311826, 0.52320426])"
      ]
     },
     "execution_count": 29,
     "metadata": {},
     "output_type": "execute_result"
    }
   ],
   "source": [
    "np.random.random(9)"
   ]
  },
  {
   "cell_type": "markdown",
   "metadata": {},
   "source": []
  },
  {
   "cell_type": "markdown",
   "metadata": {},
   "source": [
    "STATISTICS"
   ]
  },
  {
   "cell_type": "markdown",
   "metadata": {},
   "source": [
    "1) BASIC STATISTICS\n",
    "\n",
    "2) INFERENTIAL STATISTICS\n"
   ]
  },
  {
   "cell_type": "markdown",
   "metadata": {},
   "source": [
    "basic statistics-DESCRIPTIVE STATISTICL PARAMETERS----bcoz they  describe the nature of the data\n",
    "\n",
    "  \n",
    "   {mean,  median, mode, standard deviation,  variance,   percentile,  quartile}---data descripters\n",
    "\n",
    "\n",
    "   COLLECT THROUGH SURVEY BY OPINIONS OF PEOPLE"
   ]
  },
  {
   "cell_type": "markdown",
   "metadata": {},
   "source": [
    "INFERENTIAL STATISTICS-- CONCLUSION OR DECISION FROM THE SAMPLES COLLECTIVES\n",
    "    \n",
    "    we compute and deal with confidence intervals, hypothesis testings, analysis of variance"
   ]
  },
  {
   "cell_type": "markdown",
   "metadata": {},
   "source": [
    "#BASIC STATISTICS - DATA TYPES  { NO ARITHMETIC OPERATIONS }\n",
    "\n",
    "    names -   NOMINAL DATA\n",
    "    rank  -   ORDINAL DATA\n",
    "    age,height - CONTINUOUS /  RATIO DATA {  USE ARITHMETIC OPERATIONS }  [\" 0 HAS  SOME VALUE --- TIME\" ]\n",
    "    temperature, MONEY - INTERVAL DATA     {  MORE MEANINGFULL}           [\" ABSOLUTE-0 HAS NO MEANING\"]\n",
    "\n",
    "\n"
   ]
  },
  {
   "cell_type": "markdown",
   "metadata": {},
   "source": [
    "DISCRETE AND CONTINUOUS DATA -- DATA THAT WE COLLECT\n",
    "\n",
    "    DISCRETE= PEOPLE LIVING IN A ROOM { NO FRACTION - FIXED, COUNTABLE  AND WHOLE NUMBERS} \n",
    "    CONTINUOUS = FRACTIONAL VALUES"
   ]
  },
  {
   "cell_type": "markdown",
   "metadata": {},
   "source": [
    "       EXAMPLES\n",
    "    CONTINUOUS - TIME, MONEY,  LENGTH,  \n",
    "    DISCRETE - CARS, BEATINGS, LAPTOPS"
   ]
  },
  {
   "cell_type": "markdown",
   "metadata": {},
   "source": [
    "\n",
    "------"
   ]
  },
  {
   "cell_type": "markdown",
   "metadata": {},
   "source": [
    "    SAMPLE AND POPULATION\n",
    "        TO DRAW A CONCLUSION ABOUT POPULATION - WE DO SAMPLING AND DRAW SOME INFERENCE AND IMPART TO THE POPULATOIN KNOWN AS INFERENTIAL STATISTICS\n",
    "        "
   ]
  },
  {
   "cell_type": "markdown",
   "metadata": {},
   "source": [
    "\n",
    "    MEAN - THE AVERAGE ONE         [\" THE CHANGE OCCURS WHEN THERE ARE EXTREME VALUES IN THE MEAN BECAUSE \n",
    "    MEDIAN - MIDDLE ONE               OF ONE NUMBER BCOZ ITS SENSTIVE. BUT MEDIAN IS INSENSITIVE. SO THAT NUMBER IS OUTLIER\"]\n",
    "    MODE - REPEATED ONE    ['  BIMODAL, UNIMODAL, MULTIMODAL -- CAN HAVE MORE THAN ONE MODE ']"
   ]
  },
  {
   "cell_type": "markdown",
   "metadata": {},
   "source": [
    "                     MEAN AND MEDIAN REPRESNTS THE CENTRAL TENDENCY THAN MODE"
   ]
  },
  {
   "cell_type": "markdown",
   "metadata": {},
   "source": [
    "         STANDARD DEVIATION -  SQUAREROOT OF VARIANCE\n",
    "         VARIANCE - SUM OF SQUARES OF STD VALUES AND DIVIDED BY NUMBER OF DATA POINTS"
   ]
  },
  {
   "cell_type": "markdown",
   "metadata": {},
   "source": [
    "           \n",
    "           FORMULA FOR VARIANCE IS == E(X - `X`)/ N   [\"POPLUATION\"]\n",
    "                                    == E(X-`X`) /N-1   [\"SAMPLE\"]"
   ]
  },
  {
   "cell_type": "markdown",
   "metadata": {},
   "source": [
    "\n",
    "\n",
    "------\n"
   ]
  },
  {
   "cell_type": "markdown",
   "metadata": {},
   "source": [
    "------"
   ]
  },
  {
   "cell_type": "code",
   "execution_count": 30,
   "metadata": {},
   "outputs": [],
   "source": [
    "import numpy as np"
   ]
  },
  {
   "cell_type": "code",
   "execution_count": 31,
   "metadata": {},
   "outputs": [],
   "source": [
    "a=np.array([3,5,23,56,23,7,9])\n"
   ]
  },
  {
   "cell_type": "code",
   "execution_count": 32,
   "metadata": {},
   "outputs": [
    {
     "data": {
      "text/plain": [
       "18.0"
      ]
     },
     "execution_count": 32,
     "metadata": {},
     "output_type": "execute_result"
    }
   ],
   "source": [
    "np.mean(a)"
   ]
  },
  {
   "cell_type": "code",
   "execution_count": 33,
   "metadata": {},
   "outputs": [
    {
     "data": {
      "text/plain": [
       "9.0"
      ]
     },
     "execution_count": 33,
     "metadata": {},
     "output_type": "execute_result"
    }
   ],
   "source": [
    "np.median(a)"
   ]
  },
  {
   "cell_type": "code",
   "execution_count": 34,
   "metadata": {},
   "outputs": [
    {
     "data": {
      "text/plain": [
       "17.279219559095502"
      ]
     },
     "execution_count": 34,
     "metadata": {},
     "output_type": "execute_result"
    }
   ],
   "source": [
    "np.std(a)"
   ]
  },
  {
   "cell_type": "code",
   "execution_count": 35,
   "metadata": {},
   "outputs": [
    {
     "data": {
      "text/plain": [
       "298.57142857142856"
      ]
     },
     "execution_count": 35,
     "metadata": {},
     "output_type": "execute_result"
    }
   ],
   "source": [
    "np.var(a)"
   ]
  },
  {
   "cell_type": "code",
   "execution_count": 36,
   "metadata": {},
   "outputs": [],
   "source": [
    "import pandas as pd"
   ]
  },
  {
   "cell_type": "code",
   "execution_count": 37,
   "metadata": {},
   "outputs": [],
   "source": [
    "df= pd.read_csv(r\"C:\\Users\\91863\\Downloads\\Salaries.csv\")"
   ]
  },
  {
   "cell_type": "code",
   "execution_count": 38,
   "metadata": {},
   "outputs": [
    {
     "data": {
      "text/html": [
       "<div>\n",
       "<style scoped>\n",
       "    .dataframe tbody tr th:only-of-type {\n",
       "        vertical-align: middle;\n",
       "    }\n",
       "\n",
       "    .dataframe tbody tr th {\n",
       "        vertical-align: top;\n",
       "    }\n",
       "\n",
       "    .dataframe thead th {\n",
       "        text-align: right;\n",
       "    }\n",
       "</style>\n",
       "<table border=\"1\" class=\"dataframe\">\n",
       "  <thead>\n",
       "    <tr style=\"text-align: right;\">\n",
       "      <th></th>\n",
       "      <th>rank</th>\n",
       "      <th>discipline</th>\n",
       "      <th>phd</th>\n",
       "      <th>service</th>\n",
       "      <th>sex</th>\n",
       "      <th>salary</th>\n",
       "    </tr>\n",
       "  </thead>\n",
       "  <tbody>\n",
       "    <tr>\n",
       "      <th>0</th>\n",
       "      <td>Prof</td>\n",
       "      <td>B</td>\n",
       "      <td>56</td>\n",
       "      <td>49</td>\n",
       "      <td>Male</td>\n",
       "      <td>186960</td>\n",
       "    </tr>\n",
       "    <tr>\n",
       "      <th>1</th>\n",
       "      <td>Prof</td>\n",
       "      <td>A</td>\n",
       "      <td>12</td>\n",
       "      <td>6</td>\n",
       "      <td>Male</td>\n",
       "      <td>93000</td>\n",
       "    </tr>\n",
       "    <tr>\n",
       "      <th>2</th>\n",
       "      <td>Prof</td>\n",
       "      <td>A</td>\n",
       "      <td>23</td>\n",
       "      <td>20</td>\n",
       "      <td>Male</td>\n",
       "      <td>110515</td>\n",
       "    </tr>\n",
       "    <tr>\n",
       "      <th>3</th>\n",
       "      <td>Prof</td>\n",
       "      <td>A</td>\n",
       "      <td>40</td>\n",
       "      <td>31</td>\n",
       "      <td>Male</td>\n",
       "      <td>131205</td>\n",
       "    </tr>\n",
       "    <tr>\n",
       "      <th>4</th>\n",
       "      <td>Prof</td>\n",
       "      <td>B</td>\n",
       "      <td>20</td>\n",
       "      <td>18</td>\n",
       "      <td>Male</td>\n",
       "      <td>104800</td>\n",
       "    </tr>\n",
       "    <tr>\n",
       "      <th>...</th>\n",
       "      <td>...</td>\n",
       "      <td>...</td>\n",
       "      <td>...</td>\n",
       "      <td>...</td>\n",
       "      <td>...</td>\n",
       "      <td>...</td>\n",
       "    </tr>\n",
       "    <tr>\n",
       "      <th>73</th>\n",
       "      <td>Prof</td>\n",
       "      <td>B</td>\n",
       "      <td>18</td>\n",
       "      <td>10</td>\n",
       "      <td>Female</td>\n",
       "      <td>105450</td>\n",
       "    </tr>\n",
       "    <tr>\n",
       "      <th>74</th>\n",
       "      <td>AssocProf</td>\n",
       "      <td>B</td>\n",
       "      <td>19</td>\n",
       "      <td>6</td>\n",
       "      <td>Female</td>\n",
       "      <td>104542</td>\n",
       "    </tr>\n",
       "    <tr>\n",
       "      <th>75</th>\n",
       "      <td>Prof</td>\n",
       "      <td>B</td>\n",
       "      <td>17</td>\n",
       "      <td>17</td>\n",
       "      <td>Female</td>\n",
       "      <td>124312</td>\n",
       "    </tr>\n",
       "    <tr>\n",
       "      <th>76</th>\n",
       "      <td>Prof</td>\n",
       "      <td>A</td>\n",
       "      <td>28</td>\n",
       "      <td>14</td>\n",
       "      <td>Female</td>\n",
       "      <td>109954</td>\n",
       "    </tr>\n",
       "    <tr>\n",
       "      <th>77</th>\n",
       "      <td>Prof</td>\n",
       "      <td>A</td>\n",
       "      <td>23</td>\n",
       "      <td>15</td>\n",
       "      <td>Female</td>\n",
       "      <td>109646</td>\n",
       "    </tr>\n",
       "  </tbody>\n",
       "</table>\n",
       "<p>78 rows × 6 columns</p>\n",
       "</div>"
      ],
      "text/plain": [
       "         rank discipline  phd  service     sex  salary\n",
       "0        Prof          B   56       49    Male  186960\n",
       "1        Prof          A   12        6    Male   93000\n",
       "2        Prof          A   23       20    Male  110515\n",
       "3        Prof          A   40       31    Male  131205\n",
       "4        Prof          B   20       18    Male  104800\n",
       "..        ...        ...  ...      ...     ...     ...\n",
       "73       Prof          B   18       10  Female  105450\n",
       "74  AssocProf          B   19        6  Female  104542\n",
       "75       Prof          B   17       17  Female  124312\n",
       "76       Prof          A   28       14  Female  109954\n",
       "77       Prof          A   23       15  Female  109646\n",
       "\n",
       "[78 rows x 6 columns]"
      ]
     },
     "execution_count": 38,
     "metadata": {},
     "output_type": "execute_result"
    }
   ],
   "source": [
    "df"
   ]
  },
  {
   "cell_type": "code",
   "execution_count": 39,
   "metadata": {},
   "outputs": [
    {
     "data": {
      "text/html": [
       "<div>\n",
       "<style scoped>\n",
       "    .dataframe tbody tr th:only-of-type {\n",
       "        vertical-align: middle;\n",
       "    }\n",
       "\n",
       "    .dataframe tbody tr th {\n",
       "        vertical-align: top;\n",
       "    }\n",
       "\n",
       "    .dataframe thead th {\n",
       "        text-align: right;\n",
       "    }\n",
       "</style>\n",
       "<table border=\"1\" class=\"dataframe\">\n",
       "  <thead>\n",
       "    <tr style=\"text-align: right;\">\n",
       "      <th></th>\n",
       "      <th>rank</th>\n",
       "      <th>discipline</th>\n",
       "      <th>phd</th>\n",
       "      <th>service</th>\n",
       "      <th>sex</th>\n",
       "      <th>salary</th>\n",
       "    </tr>\n",
       "  </thead>\n",
       "  <tbody>\n",
       "    <tr>\n",
       "      <th>count</th>\n",
       "      <td>78</td>\n",
       "      <td>78</td>\n",
       "      <td>78.000000</td>\n",
       "      <td>78.000000</td>\n",
       "      <td>78</td>\n",
       "      <td>78.000000</td>\n",
       "    </tr>\n",
       "    <tr>\n",
       "      <th>unique</th>\n",
       "      <td>3</td>\n",
       "      <td>2</td>\n",
       "      <td>NaN</td>\n",
       "      <td>NaN</td>\n",
       "      <td>2</td>\n",
       "      <td>NaN</td>\n",
       "    </tr>\n",
       "    <tr>\n",
       "      <th>top</th>\n",
       "      <td>Prof</td>\n",
       "      <td>B</td>\n",
       "      <td>NaN</td>\n",
       "      <td>NaN</td>\n",
       "      <td>Male</td>\n",
       "      <td>NaN</td>\n",
       "    </tr>\n",
       "    <tr>\n",
       "      <th>freq</th>\n",
       "      <td>46</td>\n",
       "      <td>42</td>\n",
       "      <td>NaN</td>\n",
       "      <td>NaN</td>\n",
       "      <td>39</td>\n",
       "      <td>NaN</td>\n",
       "    </tr>\n",
       "    <tr>\n",
       "      <th>mean</th>\n",
       "      <td>NaN</td>\n",
       "      <td>NaN</td>\n",
       "      <td>19.705128</td>\n",
       "      <td>15.051282</td>\n",
       "      <td>NaN</td>\n",
       "      <td>108023.782051</td>\n",
       "    </tr>\n",
       "    <tr>\n",
       "      <th>std</th>\n",
       "      <td>NaN</td>\n",
       "      <td>NaN</td>\n",
       "      <td>12.498425</td>\n",
       "      <td>12.139768</td>\n",
       "      <td>NaN</td>\n",
       "      <td>28293.661022</td>\n",
       "    </tr>\n",
       "    <tr>\n",
       "      <th>min</th>\n",
       "      <td>NaN</td>\n",
       "      <td>NaN</td>\n",
       "      <td>1.000000</td>\n",
       "      <td>0.000000</td>\n",
       "      <td>NaN</td>\n",
       "      <td>57800.000000</td>\n",
       "    </tr>\n",
       "    <tr>\n",
       "      <th>25%</th>\n",
       "      <td>NaN</td>\n",
       "      <td>NaN</td>\n",
       "      <td>10.250000</td>\n",
       "      <td>5.250000</td>\n",
       "      <td>NaN</td>\n",
       "      <td>88612.500000</td>\n",
       "    </tr>\n",
       "    <tr>\n",
       "      <th>50%</th>\n",
       "      <td>NaN</td>\n",
       "      <td>NaN</td>\n",
       "      <td>18.500000</td>\n",
       "      <td>14.500000</td>\n",
       "      <td>NaN</td>\n",
       "      <td>104671.000000</td>\n",
       "    </tr>\n",
       "    <tr>\n",
       "      <th>75%</th>\n",
       "      <td>NaN</td>\n",
       "      <td>NaN</td>\n",
       "      <td>27.750000</td>\n",
       "      <td>20.750000</td>\n",
       "      <td>NaN</td>\n",
       "      <td>126774.750000</td>\n",
       "    </tr>\n",
       "    <tr>\n",
       "      <th>max</th>\n",
       "      <td>NaN</td>\n",
       "      <td>NaN</td>\n",
       "      <td>56.000000</td>\n",
       "      <td>51.000000</td>\n",
       "      <td>NaN</td>\n",
       "      <td>186960.000000</td>\n",
       "    </tr>\n",
       "  </tbody>\n",
       "</table>\n",
       "</div>"
      ],
      "text/plain": [
       "        rank discipline        phd    service   sex         salary\n",
       "count     78         78  78.000000  78.000000    78      78.000000\n",
       "unique     3          2        NaN        NaN     2            NaN\n",
       "top     Prof          B        NaN        NaN  Male            NaN\n",
       "freq      46         42        NaN        NaN    39            NaN\n",
       "mean     NaN        NaN  19.705128  15.051282   NaN  108023.782051\n",
       "std      NaN        NaN  12.498425  12.139768   NaN   28293.661022\n",
       "min      NaN        NaN   1.000000   0.000000   NaN   57800.000000\n",
       "25%      NaN        NaN  10.250000   5.250000   NaN   88612.500000\n",
       "50%      NaN        NaN  18.500000  14.500000   NaN  104671.000000\n",
       "75%      NaN        NaN  27.750000  20.750000   NaN  126774.750000\n",
       "max      NaN        NaN  56.000000  51.000000   NaN  186960.000000"
      ]
     },
     "execution_count": 39,
     "metadata": {},
     "output_type": "execute_result"
    }
   ],
   "source": [
    "df.describe(include =\"all\")"
   ]
  },
  {
   "cell_type": "code",
   "execution_count": 40,
   "metadata": {},
   "outputs": [
    {
     "data": {
      "text/plain": [
       "phd\n",
       "4     6\n",
       "17    5\n",
       "20    5\n",
       "12    5\n",
       "23    4\n",
       "18    4\n",
       "29    3\n",
       "25    3\n",
       "28    3\n",
       "3     2\n",
       "5     2\n",
       "11    2\n",
       "7     2\n",
       "45    2\n",
       "10    2\n",
       "2     2\n",
       "13    2\n",
       "19    2\n",
       "8     2\n",
       "35    2\n",
       "36    2\n",
       "39    2\n",
       "14    1\n",
       "26    1\n",
       "56    1\n",
       "30    1\n",
       "27    1\n",
       "22    1\n",
       "9     1\n",
       "21    1\n",
       "38    1\n",
       "33    1\n",
       "1     1\n",
       "51    1\n",
       "40    1\n",
       "24    1\n",
       "Name: count, dtype: int64"
      ]
     },
     "execution_count": 40,
     "metadata": {},
     "output_type": "execute_result"
    }
   ],
   "source": [
    "df[\"phd\"].value_counts()"
   ]
  },
  {
   "cell_type": "code",
   "execution_count": 41,
   "metadata": {},
   "outputs": [
    {
     "data": {
      "text/plain": [
       "<function statistics.mean(data)>"
      ]
     },
     "execution_count": 41,
     "metadata": {},
     "output_type": "execute_result"
    }
   ],
   "source": [
    "from statistics import mean\n"
   ]
  },
  {
   "cell_type": "code",
   "execution_count": 42,
   "metadata": {},
   "outputs": [
    {
     "data": {
      "text/plain": [
       "19.705128205128204"
      ]
     },
     "execution_count": 42,
     "metadata": {},
     "output_type": "execute_result"
    }
   ],
   "source": [
    "df[\"phd\"].mean()"
   ]
  },
  {
   "cell_type": "code",
   "execution_count": 43,
   "metadata": {},
   "outputs": [
    {
     "data": {
      "text/plain": [
       "18.5"
      ]
     },
     "execution_count": 43,
     "metadata": {},
     "output_type": "execute_result"
    }
   ],
   "source": [
    "df[\"phd\"].median()"
   ]
  },
  {
   "cell_type": "markdown",
   "metadata": {},
   "source": [
    "---\n"
   ]
  },
  {
   "cell_type": "markdown",
   "metadata": {},
   "source": [
    "GRAPHICAL VISUALISATION TECHNIQUES IN EDA (EXPLORATORY DATA ANALYSIS)\n",
    "\n",
    "        BOX PLOT - FOR OUTLIERS WHERE THEY ARE NOTHING BUT EXTRME VALUES\n",
    "        HISTOGRAM  - * gives the nature of distribution of data with their frequency values.data points are clasified into bins/cls range. plot the cls ranges on x-axis and frq on y-axis.\n",
    "        ---\n",
    "        SKEWNESS - histogram is asymmetrical\n",
    " *     negative skewness implies mass is on the right.\n",
    "       ---\n",
    "        KURTOSIS - histogram is symmetrical\n",
    " *     peakedness is expressed through kurtosis  and  for negative kurtosos - wider peak , thinner tail\n",
    " *     hight peak -positive kurtosis\n",
    "       ---\n",
    "        RANDOM VARIABLE -  a variable which depends on chance or uncertainity.\n",
    "        PROBABILITY DISTRIBUTIONS - continuous distributions,ideal/normal distribution.\n",
    "        CENTRAL LIMIT THEOREM [\"CLT\"]\n",
    "        CONFIDENCE INTERVALS"
   ]
  },
  {
   "cell_type": "markdown",
   "metadata": {},
   "source": [
    "-----\n"
   ]
  },
  {
   "cell_type": "markdown",
   "metadata": {},
   "source": [
    "    FIRST QUARTILE (Q1) - IT IS MEDIAN FOR THE FIRST HALF OF THE DATA POINTS LESS THAN Q2\n",
    "    MEDIAN - SEC QUARTILE (Q2) \n",
    "    THIRD QUARTILE (Q3) - IT IS MEDIAN FOR THE SECOND HALF THAT IS GREATER THAN Q2"
   ]
  },
  {
   "cell_type": "markdown",
   "metadata": {},
   "source": [
    " BOXPLOT - IN IT WE USE QUARTILES       Q1,Q2,Q3\n",
    " *  BOXPLOT HAVE TWO WHISKERS ON EITHER SIDE OF THE BOX.\n",
    "* SIGNIFICANCE OF WHISKERS  LENGTH - IDNETIFIES THE WITHIN RANGE OF THE DATA POINTS.\n",
    "*  THE LENGTH OF THE WHISKERS IS OF RANGE =  ( Q3 - Q1)*1.5\n",
    "                                                         \n",
    "                                                         Q3 - Q1 = INTER QUARTILE RANGE\n",
    "* IN THE BOXPLOT, THE BOX COTAINS  THE MIDDLE 50% OF THE DATA POINTS, WHEREAS 25% OF THE DATAPOINTS ON EITHER SIDE OF THE WHISKERS. \n",
    "\n",
    "* IF THERE ARE DATA POINTS SPREAD AFTER THE WHISKERS THEN  THERE COULD BE * OUTLIERS PRESENT BEYOND THE WHISKERS."
   ]
  },
  {
   "cell_type": "markdown",
   "metadata": {},
   "source": [
    "USES OF BOXPLOT-\n",
    "*       SPREAD OF DATA IS WELL UNDERSTOOD\n",
    " *       CAN IDENTIFY OUTLIERS I.E EXTREME VALUES\n",
    " *       Q1,Q2,Q3 , RANGE,IQR VALUES CAN BE FOUND"
   ]
  },
  {
   "cell_type": "code",
   "execution_count": 44,
   "metadata": {},
   "outputs": [],
   "source": [
    "import matplotlib.pyplot as plt\n",
    "import numpy as np\n",
    "import seaborn as sns\n",
    "import pandas as pd"
   ]
  },
  {
   "cell_type": "code",
   "execution_count": 45,
   "metadata": {},
   "outputs": [
    {
     "data": {
      "text/plain": [
       "array([ 1,  3,  5,  7,  9, 11, 13, 15, 17, 19, 21, 23, 25, 27, 29, 31, 33,\n",
       "       35, 37, 39, 41, 43, 45, 47, 49, 51, 53, 55, 57, 59, 61, 63, 65, 67,\n",
       "       69, 71, 73, 75, 77, 79, 81, 83, 85, 87, 89, 91, 93, 95, 97, 99])"
      ]
     },
     "execution_count": 45,
     "metadata": {},
     "output_type": "execute_result"
    }
   ],
   "source": [
    "x= np.arange(1,100,2)\n",
    "x"
   ]
  },
  {
   "cell_type": "code",
   "execution_count": 46,
   "metadata": {},
   "outputs": [
    {
     "data": {
      "text/plain": [
       "array([7, 3, 6, 9, 1, 3, 8, 8, 1, 2, 3, 8, 3, 2, 4, 6, 8, 2, 7, 9, 9, 2,\n",
       "       1, 8, 2, 4, 5, 6, 9, 8, 1, 4, 9, 1, 7, 6, 8, 5, 9, 2, 1, 2, 8, 6,\n",
       "       4, 5, 2, 4, 7, 8])"
      ]
     },
     "execution_count": 46,
     "metadata": {},
     "output_type": "execute_result"
    }
   ],
   "source": [
    "y=np.random.randint(1,10,50)\n",
    "y"
   ]
  },
  {
   "cell_type": "code",
   "execution_count": 47,
   "metadata": {},
   "outputs": [
    {
     "data": {
      "text/plain": [
       "{'whiskers': [<matplotlib.lines.Line2D at 0x1f4b8f321a0>,\n",
       "  <matplotlib.lines.Line2D at 0x1f4b8f32440>],\n",
       " 'caps': [<matplotlib.lines.Line2D at 0x1f4b8f326e0>,\n",
       "  <matplotlib.lines.Line2D at 0x1f4b8f32980>],\n",
       " 'boxes': [<matplotlib.lines.Line2D at 0x1f4b8f31f00>],\n",
       " 'medians': [<matplotlib.lines.Line2D at 0x1f4b8f32c20>],\n",
       " 'fliers': [<matplotlib.lines.Line2D at 0x1f4b8f32ec0>],\n",
       " 'means': []}"
      ]
     },
     "execution_count": 47,
     "metadata": {},
     "output_type": "execute_result"
    },
    {
     "data": {
      "image/png": "[encoded data removed]",
      "text/plain": [
       "<Figure size 640x480 with 1 Axes>"
      ]
     },
     "metadata": {},
     "output_type": "display_data"
    }
   ],
   "source": [
    "plt.boxplot(x,vert=False)"
   ]
  },
  {
   "cell_type": "code",
   "execution_count": 48,
   "metadata": {},
   "outputs": [
    {
     "data": {
      "text/plain": [
       "(array([6., 8., 4., 5., 0., 3., 5., 4., 9., 6.]),\n",
       " array([1. , 1.8, 2.6, 3.4, 4.2, 5. , 5.8, 6.6, 7.4, 8.2, 9. ]),\n",
       " <BarContainer object of 10 artists>)"
      ]
     },
     "execution_count": 48,
     "metadata": {},
     "output_type": "execute_result"
    },
    {
     "data": {
      "image/png": "[encoded data removed]",
      "text/plain": [
       "<Figure size 640x480 with 1 Axes>"
      ]
     },
     "metadata": {},
     "output_type": "display_data"
    }
   ],
   "source": [
    "plt.hist(y,bins= None)"
   ]
  },
  {
   "cell_type": "code",
   "execution_count": 49,
   "metadata": {},
   "outputs": [],
   "source": [
    "from scipy.stats import kurtosis,skew"
   ]
  },
  {
   "cell_type": "code",
   "execution_count": 50,
   "metadata": {},
   "outputs": [
    {
     "name": "stdout",
     "output_type": "stream",
     "text": [
      "Requirement already satisfied: scikit-learn in c:\\users\\91863\\appdata\\roaming\\python\\python310\\site-packages (1.3.0)\n",
      "Requirement already satisfied: numpy>=1.17.3 in c:\\users\\91863\\appdata\\roaming\\python\\python310\\site-packages (from scikit-learn) (1.24.3)\n",
      "Requirement already satisfied: scipy>=1.5.0 in c:\\users\\91863\\appdata\\roaming\\python\\python310\\site-packages (from scikit-learn) (1.11.1)\n",
      "Requirement already satisfied: joblib>=1.1.1 in c:\\users\\91863\\appdata\\roaming\\python\\python310\\site-packages (from scikit-learn) (1.3.1)\n",
      "Requirement already satisfied: threadpoolctl>=2.0.0 in c:\\users\\91863\\appdata\\roaming\\python\\python310\\site-packages (from scikit-learn) (3.2.0)\n",
      "Note: you may need to restart the kernel to use updated packages.\n"
     ]
    },
    {
     "name": "stderr",
     "output_type": "stream",
     "text": [
      "WARNING: There was an error checking the latest version of pip.\n"
     ]
    }
   ],
   "source": [
    "pip install scikit-learn"
   ]
  },
  {
   "cell_type": "code",
   "execution_count": 51,
   "metadata": {},
   "outputs": [
    {
     "data": {
      "text/plain": [
       "-0.039629858416901816"
      ]
     },
     "execution_count": 51,
     "metadata": {},
     "output_type": "execute_result"
    }
   ],
   "source": [
    "skew(y)"
   ]
  },
  {
   "cell_type": "code",
   "execution_count": 52,
   "metadata": {},
   "outputs": [
    {
     "data": {
      "text/plain": [
       "-1.4665888938780045"
      ]
     },
     "execution_count": 52,
     "metadata": {},
     "output_type": "execute_result"
    }
   ],
   "source": [
    "kurtosis(y)"
   ]
  },
  {
   "cell_type": "code",
   "execution_count": 53,
   "metadata": {},
   "outputs": [
    {
     "data": {
      "text/plain": [
       "<seaborn.axisgrid.FacetGrid at 0x1f4a8386110>"
      ]
     },
     "execution_count": 53,
     "metadata": {},
     "output_type": "execute_result"
    },
    {
     "data": {
      "image/png": "[encoded data removed]",
      "text/plain": [
       "<Figure size 500x500 with 1 Axes>"
      ]
     },
     "metadata": {},
     "output_type": "display_data"
    }
   ],
   "source": [
    "sns.displot(y)"
   ]
  },
  {
   "cell_type": "markdown",
   "metadata": {},
   "source": [
    "Z-SCORES :\n",
    "*      USES MEAN AND STANDARD DEVIATION OF THE DATA SET TO SPECIFY LOCTION OF THE MEASUREMENT.\n",
    "*      FOR EVERY READING, CALCULATE Z=(X-MYU)/SIGMA.\n",
    "*      CALLED AS \"STANDARDIZING\" THE DATA POINTS. it means non dimentional one\n",
    "*      the value of z will be -3 to +3.\n",
    "\n"
   ]
  },
  {
   "cell_type": "code",
   "execution_count": 54,
   "metadata": {},
   "outputs": [
    {
     "data": {
      "text/plain": [
       "array([46, 53, 36, 86, 62, 20, 40, 53, 36, 13, 64, 18, 68, 94, 49, 54, 72,\n",
       "       68, 55, 62, 92, 42, 13, 10, 90, 78, 40, 40, 79, 59, 58, 61, 77, 82,\n",
       "       82, 40, 17, 79, 30, 62, 24, 19, 96, 61, 76, 43, 36, 70, 73, 35, 52,\n",
       "       71, 10, 57, 87, 65, 95, 24, 51, 19, 52, 93, 39, 52, 65, 97, 11, 90,\n",
       "       17, 37, 58, 94, 97, 83, 72, 57, 40, 34, 78, 30, 36, 90, 74, 98, 54,\n",
       "       94, 81, 48, 75, 67, 47, 35, 27, 88, 10, 11, 34, 87, 21, 99])"
      ]
     },
     "execution_count": 54,
     "metadata": {},
     "output_type": "execute_result"
    }
   ],
   "source": [
    "import numpy  as np\n",
    "a=np.random.randint(10,100,100)\n",
    "a"
   ]
  },
  {
   "cell_type": "markdown",
   "metadata": {},
   "source": [
    "Z-SCORE SUM"
   ]
  },
  {
   "cell_type": "code",
   "execution_count": 55,
   "metadata": {},
   "outputs": [
    {
     "data": {
      "text/plain": [
       "(56.16, 25.868405439841087)"
      ]
     },
     "execution_count": 55,
     "metadata": {},
     "output_type": "execute_result"
    }
   ],
   "source": [
    "b=np.mean(a)\n",
    "c=np.std(a)\n",
    "b,c\n"
   ]
  },
  {
   "cell_type": "code",
   "execution_count": 56,
   "metadata": {},
   "outputs": [
    {
     "data": {
      "text/plain": [
       "[-0.39275710378159323,\n",
       " -0.12215673700293639,\n",
       " -0.7793290563225316,\n",
       " 1.15353070638216,\n",
       " 0.22575802028390812,\n",
       " -1.3978441803880328,\n",
       " -0.6247002753061562,\n",
       " -0.12215673700293639,\n",
       " -0.7793290563225316,\n",
       " -1.6684445471666898,\n",
       " 0.3030724107920958,\n",
       " -1.4751585708962205,\n",
       " 0.45770119180847113,\n",
       " 1.4627882684149107,\n",
       " -0.2767855180193117,\n",
       " -0.08349954174884255,\n",
       " 0.6123299728248465,\n",
       " 0.45770119180847113,\n",
       " -0.04484234649474871,\n",
       " 0.22575802028390812,\n",
       " 1.385473877906723,\n",
       " -0.5473858847979686,\n",
       " -1.6684445471666898,\n",
       " -1.7844161329289712,\n",
       " 1.3081594873985354,\n",
       " 0.8442731443494095,\n",
       " -0.6247002753061562,\n",
       " -0.6247002753061562,\n",
       " 0.8829303396035033,\n",
       " 0.10978643452162662,\n",
       " 0.07112923926753278,\n",
       " 0.1871008250298143,\n",
       " 0.8056159490953156,\n",
       " 0.9989019253657848,\n",
       " 0.9989019253657848,\n",
       " -0.6247002753061562,\n",
       " -1.5138157661503144,\n",
       " 0.8829303396035033,\n",
       " -1.0112722278470945,\n",
       " 0.22575802028390812,\n",
       " -1.2432153993716575,\n",
       " -1.4365013756421268,\n",
       " 1.5401026589230984,\n",
       " 0.1871008250298143,\n",
       " 0.7669587538412218,\n",
       " -0.5087286895438747,\n",
       " -0.7793290563225316,\n",
       " 0.5350155823166588,\n",
       " 0.6509871680789403,\n",
       " -0.8179862515766254,\n",
       " -0.16081393225703022,\n",
       " 0.5736727775707526,\n",
       " -1.7844161329289712,\n",
       " 0.03247204401343895,\n",
       " 1.192187901636254,\n",
       " 0.3417296060461896,\n",
       " 1.5014454636690047,\n",
       " -1.2432153993716575,\n",
       " -0.19947112751112406,\n",
       " -1.4365013756421268,\n",
       " -0.16081393225703022,\n",
       " 1.424131073160817,\n",
       " -0.6633574705602501,\n",
       " -0.16081393225703022,\n",
       " 0.3417296060461896,\n",
       " 1.5787598541771923,\n",
       " -1.7457589376748774,\n",
       " 1.3081594873985354,\n",
       " -1.5138157661503144,\n",
       " -0.7406718610684377,\n",
       " 0.07112923926753278,\n",
       " 1.4627882684149107,\n",
       " 1.5787598541771923,\n",
       " 1.0375591206198786,\n",
       " 0.6123299728248465,\n",
       " 0.03247204401343895,\n",
       " -0.6247002753061562,\n",
       " -0.8566434468307192,\n",
       " 0.8442731443494095,\n",
       " -1.0112722278470945,\n",
       " -0.7793290563225316,\n",
       " 1.3081594873985354,\n",
       " 0.6896443633330341,\n",
       " 1.617417049431286,\n",
       " -0.08349954174884255,\n",
       " 1.4627882684149107,\n",
       " 0.960244730111691,\n",
       " -0.31544271327340556,\n",
       " 0.728301558587128,\n",
       " 0.4190439965543773,\n",
       " -0.3540999085274994,\n",
       " -0.8179862515766254,\n",
       " -1.127243813609376,\n",
       " 1.2308450968903477,\n",
       " -1.7844161329289712,\n",
       " -1.7457589376748774,\n",
       " -0.8566434468307192,\n",
       " 1.192187901636254,\n",
       " -1.359186985133939,\n",
       " 1.65607424468538]"
      ]
     },
     "execution_count": 56,
     "metadata": {},
     "output_type": "execute_result"
    }
   ],
   "source": [
    "xz=[]\n",
    "for i in a:\n",
    "    xz.append((i-b)/c)\n",
    "xz"
   ]
  },
  {
   "cell_type": "code",
   "execution_count": 57,
   "metadata": {},
   "outputs": [
    {
     "data": {
      "text/plain": [
       "[-0.39275710378159323,\n",
       " -0.12215673700293639,\n",
       " -0.7793290563225316,\n",
       " 1.15353070638216,\n",
       " 0.22575802028390812,\n",
       " -1.3978441803880328,\n",
       " -0.6247002753061562,\n",
       " -0.12215673700293639,\n",
       " -0.7793290563225316,\n",
       " -1.6684445471666898,\n",
       " 0.3030724107920958,\n",
       " -1.4751585708962205,\n",
       " 0.45770119180847113,\n",
       " 1.4627882684149107,\n",
       " -0.2767855180193117,\n",
       " -0.08349954174884255,\n",
       " 0.6123299728248465,\n",
       " 0.45770119180847113,\n",
       " -0.04484234649474871,\n",
       " 0.22575802028390812,\n",
       " 1.385473877906723,\n",
       " -0.5473858847979686,\n",
       " -1.6684445471666898,\n",
       " -1.7844161329289712,\n",
       " 1.3081594873985354,\n",
       " 0.8442731443494095,\n",
       " -0.6247002753061562,\n",
       " -0.6247002753061562,\n",
       " 0.8829303396035033,\n",
       " 0.10978643452162662,\n",
       " 0.07112923926753278,\n",
       " 0.1871008250298143,\n",
       " 0.8056159490953156,\n",
       " 0.9989019253657848,\n",
       " 0.9989019253657848,\n",
       " -0.6247002753061562,\n",
       " -1.5138157661503144,\n",
       " 0.8829303396035033,\n",
       " -1.0112722278470945,\n",
       " 0.22575802028390812,\n",
       " -1.2432153993716575,\n",
       " -1.4365013756421268,\n",
       " 1.5401026589230984,\n",
       " 0.1871008250298143,\n",
       " 0.7669587538412218,\n",
       " -0.5087286895438747,\n",
       " -0.7793290563225316,\n",
       " 0.5350155823166588,\n",
       " 0.6509871680789403,\n",
       " -0.8179862515766254,\n",
       " -0.16081393225703022,\n",
       " 0.5736727775707526,\n",
       " -1.7844161329289712,\n",
       " 0.03247204401343895,\n",
       " 1.192187901636254,\n",
       " 0.3417296060461896,\n",
       " 1.5014454636690047,\n",
       " -1.2432153993716575,\n",
       " -0.19947112751112406,\n",
       " -1.4365013756421268,\n",
       " -0.16081393225703022,\n",
       " 1.424131073160817,\n",
       " -0.6633574705602501,\n",
       " -0.16081393225703022,\n",
       " 0.3417296060461896,\n",
       " 1.5787598541771923,\n",
       " -1.7457589376748774,\n",
       " 1.3081594873985354,\n",
       " -1.5138157661503144,\n",
       " -0.7406718610684377,\n",
       " 0.07112923926753278,\n",
       " 1.4627882684149107,\n",
       " 1.5787598541771923,\n",
       " 1.0375591206198786,\n",
       " 0.6123299728248465,\n",
       " 0.03247204401343895,\n",
       " -0.6247002753061562,\n",
       " -0.8566434468307192,\n",
       " 0.8442731443494095,\n",
       " -1.0112722278470945,\n",
       " -0.7793290563225316,\n",
       " 1.3081594873985354,\n",
       " 0.6896443633330341,\n",
       " 1.617417049431286,\n",
       " -0.08349954174884255,\n",
       " 1.4627882684149107,\n",
       " 0.960244730111691,\n",
       " -0.31544271327340556,\n",
       " 0.728301558587128,\n",
       " 0.4190439965543773,\n",
       " -0.3540999085274994,\n",
       " -0.8179862515766254,\n",
       " -1.127243813609376,\n",
       " 1.2308450968903477,\n",
       " -1.7844161329289712,\n",
       " -1.7457589376748774,\n",
       " -0.8566434468307192,\n",
       " 1.192187901636254,\n",
       " -1.359186985133939,\n",
       " 1.65607424468538]"
      ]
     },
     "execution_count": 57,
     "metadata": {},
     "output_type": "execute_result"
    }
   ],
   "source": [
    "xz=[]\n",
    "for i in range(len(a)):\n",
    "    xz.append((a[i]-b)/c)\n",
    "xz"
   ]
  },
  {
   "cell_type": "code",
   "execution_count": 58,
   "metadata": {},
   "outputs": [
    {
     "name": "stdout",
     "output_type": "stream",
     "text": [
      "Requirement already satisfied: scipy in c:\\users\\91863\\appdata\\roaming\\python\\python310\\site-packages (1.11.1)Note: you may need to restart the kernel to use updated packages.\n",
      "\n",
      "Requirement already satisfied: numpy<1.28.0,>=1.21.6 in c:\\users\\91863\\appdata\\roaming\\python\\python310\\site-packages (from scipy) (1.24.3)\n"
     ]
    },
    {
     "name": "stderr",
     "output_type": "stream",
     "text": [
      "WARNING: There was an error checking the latest version of pip.\n"
     ]
    }
   ],
   "source": [
    "pip install scipy"
   ]
  },
  {
   "cell_type": "code",
   "execution_count": 59,
   "metadata": {},
   "outputs": [],
   "source": [
    "from scipy import stats"
   ]
  },
  {
   "cell_type": "code",
   "execution_count": 60,
   "metadata": {},
   "outputs": [],
   "source": [
    "from scipy.stats import norm"
   ]
  },
  {
   "cell_type": "code",
   "execution_count": 61,
   "metadata": {},
   "outputs": [
    {
     "name": "stderr",
     "output_type": "stream",
     "text": [
      "C:\\Users\\91863\\AppData\\Local\\Temp\\ipykernel_16404\\3997334805.py:4: UserWarning: \n",
      "\n",
      "`distplot` is a deprecated function and will be removed in seaborn v0.14.0.\n",
      "\n",
      "Please adapt your code to use either `displot` (a figure-level function with\n",
      "similar flexibility) or `kdeplot` (an axes-level function for kernel density plots).\n",
      "\n",
      "For a guide to updating your code to use the new functions, please see\n",
      "https://gist.github.com/mwaskom/de44147ed2974457ad6372750bbe5751\n",
      "\n",
      "  sns.distplot(xz,hist=False)\n"
     ]
    },
    {
     "data": {
      "text/plain": [
       "<function matplotlib.pyplot.show(close=None, block=None)>"
      ]
     },
     "execution_count": 61,
     "metadata": {},
     "output_type": "execute_result"
    },
    {
     "data": {
      "image/png": "[encoded data removed]",
      "text/plain": [
       "<Figure size 640x480 with 1 Axes>"
      ]
     },
     "metadata": {},
     "output_type": "display_data"
    }
   ],
   "source": [
    "import seaborn as sns\n",
    "x1 = np.linspace(-3,3,100)\n",
    "plt.plot(x1,stats.norm.pdf(x1,0,1))\n",
    "sns.distplot(xz,hist=False)\n",
    "plt.show"
   ]
  },
  {
   "cell_type": "code",
   "execution_count": 62,
   "metadata": {},
   "outputs": [
    {
     "data": {
      "text/plain": [
       "array([27.1237942 , 18.11491901, 21.17823013, 22.00595381, 26.20373724,\n",
       "       30.45612091, 26.57247435, 11.68684114, 12.23036969, 25.61374173,\n",
       "       27.79610983, 22.51429391, 25.83385209, 26.42592686, 15.57813704,\n",
       "       29.71358909, 10.54629327, 27.09502843, 12.38710708, 18.89381693,\n",
       "       17.1628884 , 12.06618139, 13.17043756, 14.53636513, 29.11342248,\n",
       "       11.58268154, 29.77207196, 14.74805205, 13.36911953, 15.72959619,\n",
       "       13.02411674, 18.49137446, 29.33143111, 23.95274743, 10.82537333,\n",
       "       25.21591869, 18.58199279, 26.29055285, 16.74156158, 30.54928603,\n",
       "       11.10427992, 23.63446939, 18.03128595, 13.12612633, 22.8521574 ,\n",
       "       21.1790291 , 24.39888031, 27.81524786, 28.76843246, 27.94978727,\n",
       "       30.30670756, 29.89482671, 17.20726974, 14.53735283, 16.19486712,\n",
       "       24.38231854, 29.86029933, 25.27844545, 20.25191266, 19.15734889,\n",
       "       11.71810959, 18.4444865 , 29.49187897, 25.63279963, 19.34736644,\n",
       "       15.27338903, 24.22743446, 16.25782475, 11.64286911, 12.76778234,\n",
       "       10.73919517, 21.75855176, 29.22807056, 20.73419447, 28.64628241,\n",
       "       21.77554965, 11.23372335, 17.58873245, 13.2615718 , 13.96342778,\n",
       "       11.63226643, 27.20949726, 23.02218711, 12.84204555, 24.84825613,\n",
       "       10.82504332, 22.81428721, 16.73216162, 16.88529558, 12.55439226,\n",
       "       20.05688261, 25.9112766 , 16.88084182, 15.79258457, 22.78299568,\n",
       "       20.61867975, 16.20132575, 11.16190713, 22.60467566, 12.67426569])"
      ]
     },
     "execution_count": 62,
     "metadata": {},
     "output_type": "execute_result"
    }
   ],
   "source": [
    "np.random.uniform(10.5,30.6,100)"
   ]
  },
  {
   "cell_type": "code",
   "execution_count": 63,
   "metadata": {},
   "outputs": [
    {
     "data": {
      "text/plain": [
       "array([-3.        , -2.93939394, -2.87878788, -2.81818182, -2.75757576,\n",
       "       -2.6969697 , -2.63636364, -2.57575758, -2.51515152, -2.45454545,\n",
       "       -2.39393939, -2.33333333, -2.27272727, -2.21212121, -2.15151515,\n",
       "       -2.09090909, -2.03030303, -1.96969697, -1.90909091, -1.84848485,\n",
       "       -1.78787879, -1.72727273, -1.66666667, -1.60606061, -1.54545455,\n",
       "       -1.48484848, -1.42424242, -1.36363636, -1.3030303 , -1.24242424,\n",
       "       -1.18181818, -1.12121212, -1.06060606, -1.        , -0.93939394,\n",
       "       -0.87878788, -0.81818182, -0.75757576, -0.6969697 , -0.63636364,\n",
       "       -0.57575758, -0.51515152, -0.45454545, -0.39393939, -0.33333333,\n",
       "       -0.27272727, -0.21212121, -0.15151515, -0.09090909, -0.03030303,\n",
       "        0.03030303,  0.09090909,  0.15151515,  0.21212121,  0.27272727,\n",
       "        0.33333333,  0.39393939,  0.45454545,  0.51515152,  0.57575758,\n",
       "        0.63636364,  0.6969697 ,  0.75757576,  0.81818182,  0.87878788,\n",
       "        0.93939394,  1.        ,  1.06060606,  1.12121212,  1.18181818,\n",
       "        1.24242424,  1.3030303 ,  1.36363636,  1.42424242,  1.48484848,\n",
       "        1.54545455,  1.60606061,  1.66666667,  1.72727273,  1.78787879,\n",
       "        1.84848485,  1.90909091,  1.96969697,  2.03030303,  2.09090909,\n",
       "        2.15151515,  2.21212121,  2.27272727,  2.33333333,  2.39393939,\n",
       "        2.45454545,  2.51515152,  2.57575758,  2.63636364,  2.6969697 ,\n",
       "        2.75757576,  2.81818182,  2.87878788,  2.93939394,  3.        ])"
      ]
     },
     "execution_count": 63,
     "metadata": {},
     "output_type": "execute_result"
    }
   ],
   "source": [
    "x1"
   ]
  },
  {
   "cell_type": "markdown",
   "metadata": {},
   "source": [
    "NORMAL DISTRIBUTION PROPERTIES:\n",
    "*        Continuoue random variable falls into smooth curve i.e. bell shaped iff it has  a normal distribution.\n",
    "*        shape of it is symmetric around the mean.\n",
    "*        mean, median, mode are equal\n",
    "*        area=1,  range of data points= myu+-3sigma\n"
   ]
  },
  {
   "cell_type": "markdown",
   "metadata": {},
   "source": []
  },
  {
   "cell_type": "code",
   "execution_count": 74,
   "metadata": {},
   "outputs": [
    {
     "data": {
      "text/plain": [
       "1.0"
      ]
     },
     "execution_count": 74,
     "metadata": {},
     "output_type": "execute_result"
    }
   ],
   "source": [
    "# Z-SCORE-- estimate p-value with z-value \n",
    "\n",
    "stats.norm.cdf(40,55.7,23.6)\n",
    "\n",
    "# with t value\n",
    "stats.t.cdf(40,55.7,23.6)"
   ]
  },
  {
   "cell_type": "code",
   "execution_count": 65,
   "metadata": {},
   "outputs": [
    {
     "data": {
      "text/plain": [
       "0.2529439476397194"
      ]
     },
     "execution_count": 65,
     "metadata": {},
     "output_type": "execute_result"
    }
   ],
   "source": [
    "#guassian value\n",
    "stats.norm.cdf((40-55.7)/23.6,0,1)"
   ]
  },
  {
   "cell_type": "code",
   "execution_count": 66,
   "metadata": {},
   "outputs": [
    {
     "data": {
      "text/plain": [
       "0.4747761653803372"
      ]
     },
     "execution_count": 66,
     "metadata": {},
     "output_type": "execute_result"
    }
   ],
   "source": [
    "stats.norm.cdf(70,55.7,23.6)-stats.norm.cdf(40,55.7,23.6)   ### P-VALUE estimation using x"
   ]
  },
  {
   "cell_type": "markdown",
   "metadata": {},
   "source": [
    "# CENTRAL LIMIT THEOREM\n",
    "*       THE distribution of the sample  is normal mean `x` when data in population is normal.\n",
    "*       std = sigma/sqr(n)       , n is sample size  (\"standard error of the mean\")\n",
    "*       if n>=30 then distribution is approximatelu normal.\n",
    "\n",
    "*       interval estimate= point estmate ( sample mean) +- margiin of error\n",
    "\\\n",
    "\\\n",
    "\n",
    "confidence interval  for the population mean:\n",
    "*         'x' +-z(1-alpha)sigma/sqr(n)           alpha = significance level\n",
    "                                                1-alpha = confidence level\n",
    " *          margin of eror depends on uncertainity,confidence level, and  sample size                                               "
   ]
  },
  {
   "cell_type": "code",
   "execution_count": 67,
   "metadata": {},
   "outputs": [],
   "source": [
    "      # estimaton of confiddence  levels when sigma known\n",
    "xbar =1990\n",
    "sigma=2500\n",
    "n =140\n",
    "s = 2833\n"
   ]
  },
  {
   "cell_type": "code",
   "execution_count": 68,
   "metadata": {},
   "outputs": [
    {
     "data": {
      "text/plain": [
       "1.959963984540054"
      ]
     },
     "execution_count": 68,
     "metadata": {},
     "output_type": "execute_result"
    }
   ],
   "source": [
    "z= stats.norm.ppf(0.975) #estimation of z-value with p-value\n",
    "z"
   ]
  },
  {
   "cell_type": "code",
   "execution_count": 69,
   "metadata": {},
   "outputs": [],
   "source": [
    "mu = [xbar - ( z*sigma/np.sqrt(n)) ,  xbar + (z*sigma/np.sqrt(n))] "
   ]
  },
  {
   "cell_type": "code",
   "execution_count": 70,
   "metadata": {},
   "outputs": [
    {
     "data": {
      "text/plain": [
       "[1575.8820248378292, 2404.1179751621708]"
      ]
     },
     "execution_count": 70,
     "metadata": {},
     "output_type": "execute_result"
    }
   ],
   "source": [
    "mu"
   ]
  },
  {
   "cell_type": "code",
   "execution_count": 71,
   "metadata": {},
   "outputs": [],
   "source": [
    "# when sigma unknown\n",
    "xbar =1990\n",
    "n =140\n",
    "s = 2833"
   ]
  },
  {
   "cell_type": "code",
   "execution_count": 72,
   "metadata": {},
   "outputs": [
    {
     "data": {
      "text/plain": [
       "0.8343729961267545"
      ]
     },
     "execution_count": 72,
     "metadata": {},
     "output_type": "execute_result"
    }
   ],
   "source": [
    "# stats.t.ppf(t,degree of freedom (sixe -1))    ---for estimation of t value using p-value when sigma is unknwn\n",
    "t = stats.t.ppf(0.975,139)\n",
    "t"
   ]
  },
  {
   "cell_type": "code",
   "execution_count": 73,
   "metadata": {},
   "outputs": [
    {
     "data": {
      "text/plain": [
       "[1790.2242376125766, 2189.775762387423]"
      ]
     },
     "execution_count": 73,
     "metadata": {},
     "output_type": "execute_result"
    }
   ],
   "source": [
    "mu1 = [xbar - ( t*s/np.sqrt(n)) ,  xbar + (t*s/np.sqrt(n))] \n",
    "mu1"
   ]
  },
  {
   "cell_type": "markdown",
   "metadata": {},
   "source": [
    "# hypothetical testing\n",
    "*        aids in decision making.\n",
    "*        based on testing of theoritical assumption, or researc proposal on launching.\n",
    "*        inferential statistical tool.\n",
    "\n",
    "steps in h.t:\n",
    "* making NULL and ALTERNATE HYPOTHESIS\n",
    "* Whether sigma is known or unknown\n",
    "* calculate the statistic (z or t) ,  assume benchmrk value \"alpha\" and estimate the p- value \n",
    "* decison rule : if p is prob of rejecting a true null hypothe < 0..5 then reject Ho , or else don't rejct Ho\n",
    "    \n",
    "confidence level :   [ alpha = 0.05] \n",
    "        \n",
    "------"
   ]
  },
  {
   "cell_type": "markdown",
   "metadata": {},
   "source": [
    "* NULL HYPOTHESIS - IN FAVOUR STATEMENT OF THE PROBLEM\n",
    "* ALTERNATE HYPOTHESIS - ALTERNATE STATEMNET\n",
    "*        WHEN sample size (n) >=30 , z-distribution and t-distribution tend to behave  same ."
   ]
  },
  {
   "cell_type": "markdown",
   "metadata": {},
   "source": [
    "# STATISTCS - HYPOTHESIS TESTING - ERRORS\n",
    "* TYPE 1 ERROR:\n",
    "*        Wrongly reject a true null hpothesis.\n",
    "\n",
    "* TYPE 2 ERROR:\n",
    "*          Wrongly accept a false null hypothesis."
   ]
  },
  {
   "cell_type": "markdown",
   "metadata": {},
   "source": [
    "AN outbreak of salmonella related illness was attributedin to ice cream produced in a compnay.scientists measured the evels of it with 9 sample batches.  the level were 0.593,0.142,0.329,0.691,0.231,0.793,0.519,0.392,0.418.\n",
    "\n",
    "is there evidence taht mean level of  salmonella in the ice is greater than 0.3 mpn/g?"
   ]
  },
  {
   "cell_type": "code",
   "execution_count": 78,
   "metadata": {},
   "outputs": [
    {
     "data": {
      "text/plain": [
       "0.45644444444444443"
      ]
     },
     "execution_count": 78,
     "metadata": {},
     "output_type": "execute_result"
    }
   ],
   "source": [
    "# Ho = myu <= 0.3\n",
    "1#Ha =myu > 0.3\n",
    "d1 = [ 0.593,0.142,0.329,0.691,0.231,0.793,0.519,0.392,0.418]\n",
    "xbar=np.mean(d1)\n",
    "xbar\n"
   ]
  },
  {
   "cell_type": "code",
   "execution_count": 80,
   "metadata": {},
   "outputs": [
    {
     "data": {
      "text/plain": [
       "0.2006711578185737"
      ]
     },
     "execution_count": 80,
     "metadata": {},
     "output_type": "execute_result"
    }
   ],
   "source": [
    "s = np.std(d1)\n",
    "s"
   ]
  },
  {
   "cell_type": "code",
   "execution_count": 87,
   "metadata": {},
   "outputs": [
    {
     "data": {
      "text/plain": [
       "2.338818086441981"
      ]
     },
     "execution_count": 87,
     "metadata": {},
     "output_type": "execute_result"
    }
   ],
   "source": [
    "t= (xbar-0.3)/(s/np.sqrt(9))\n",
    "t"
   ]
  },
  {
   "cell_type": "code",
   "execution_count": 88,
   "metadata": {},
   "outputs": [
    {
     "data": {
      "text/plain": [
       "0.023751626755210364"
      ]
     },
     "execution_count": 88,
     "metadata": {},
     "output_type": "execute_result"
    }
   ],
   "source": [
    "# the decison is p < alpha(0.05) then reject Ho. bacteria is present in ice-cream.\n",
    "1-stats.t.cdf(t,8)  # Ha > 0.3 . so,right- tailed testing  i.e 1-stats.t.cdf(t,8)\n",
    "#"
   ]
  },
  {
   "cell_type": "code",
   "execution_count": 91,
   "metadata": {},
   "outputs": [],
   "source": [
    "# 1)  Ho = 4\n",
    "# Ha != 4 (two-tailed testing)\n",
    "n =50\n",
    "myu = 4\n",
    "std =3\n",
    "x_mean =4.6"
   ]
  },
  {
   "cell_type": "code",
   "execution_count": 94,
   "metadata": {},
   "outputs": [
    {
     "data": {
      "text/plain": [
       "1.4142135623730943"
      ]
     },
     "execution_count": 94,
     "metadata": {},
     "output_type": "execute_result"
    }
   ],
   "source": [
    "# 2)  z-test\n",
    "# z = ((xbar - myu)/(sigma/sqrt(n))\n",
    "z = (x_mean - myu)/(std/np.sqrt(n))\n",
    "z\n"
   ]
  },
  {
   "cell_type": "code",
   "execution_count": 111,
   "metadata": {},
   "outputs": [
    {
     "data": {
      "text/plain": [
       "0.07864960352514272"
      ]
     },
     "execution_count": 111,
     "metadata": {},
     "output_type": "execute_result"
    }
   ],
   "source": [
    "#alpha = 0.05 and find p value\n",
    "p = (1-stats.norm.cdf(z))\n",
    "p"
   ]
  },
  {
   "cell_type": "code",
   "execution_count": 112,
   "metadata": {},
   "outputs": [
    {
     "data": {
      "text/plain": [
       "0.15729920705028544"
      ]
     },
     "execution_count": 112,
     "metadata": {},
     "output_type": "execute_result"
    }
   ],
   "source": [
    "p = 2*p \n",
    "p\n",
    "   # two tailed so compare 2*p with alpha"
   ]
  },
  {
   "cell_type": "code",
   "execution_count": 106,
   "metadata": {},
   "outputs": [],
   "source": [
    "# since p > alpha , the prob of making an error is high, so donot rejct Ho\n"
   ]
  },
  {
   "cell_type": "code",
   "execution_count": 119,
   "metadata": {},
   "outputs": [],
   "source": [
    "n1 =50\n",
    "myu1 = 4\n",
    "std1 =3\n",
    "x_mean1 = 3.7"
   ]
  },
  {
   "cell_type": "code",
   "execution_count": 120,
   "metadata": {},
   "outputs": [
    {
     "data": {
      "text/plain": [
       "-0.7071067811865471"
      ]
     },
     "execution_count": 120,
     "metadata": {},
     "output_type": "execute_result"
    }
   ],
   "source": [
    "z1 = (x_mean1 - myu1)/ (std1/np.sqrt(n1))\n",
    "z1"
   ]
  },
  {
   "cell_type": "code",
   "execution_count": 122,
   "metadata": {},
   "outputs": [
    {
     "data": {
      "text/plain": [
       "0.23975006109347685"
      ]
     },
     "execution_count": 122,
     "metadata": {},
     "output_type": "execute_result"
    }
   ],
   "source": [
    "p = stats.norm.cdf(z1)      #since z is negaive, so no 1-stats.norm.cdf()\n",
    "p"
   ]
  },
  {
   "cell_type": "code",
   "execution_count": 123,
   "metadata": {},
   "outputs": [
    {
     "data": {
      "text/plain": [
       "0.4795001221869537"
      ]
     },
     "execution_count": 123,
     "metadata": {},
     "output_type": "execute_result"
    }
   ],
   "source": [
    "2*p"
   ]
  },
  {
   "cell_type": "code",
   "execution_count": 124,
   "metadata": {},
   "outputs": [],
   "source": [
    "# since p > 0.05 (alpha), donot reject Ho"
   ]
  },
  {
   "cell_type": "markdown",
   "metadata": {},
   "source": [
    "# TWO -SAMPLE T-TESTS"
   ]
  },
  {
   "cell_type": "code",
   "execution_count": 125,
   "metadata": {},
   "outputs": [],
   "source": [
    "# Ho : myu_control = myu_treat\n",
    "# Ha : myu_control != myu_treat         [assume myu_c = myu_t      AND s1 !=  s1]"
   ]
  },
  {
   "cell_type": "code",
   "execution_count": 126,
   "metadata": {},
   "outputs": [],
   "source": [
    "# t = ((xbar1 - xbar2)-(myu1 -myu2)/sqrt((s1**2/n1)+(s2**2/n2))\n",
    "Control = pd.Series([91,87,99,77,88,91])\n",
    "Treat = pd.Series([101,110,103,93,99,104])"
   ]
  },
  {
   "cell_type": "code",
   "execution_count": 128,
   "metadata": {},
   "outputs": [
    {
     "data": {
      "text/plain": [
       "(88.83333333333333, 101.66666666666667, 6.542595475463507, 5.153208277913436)"
      ]
     },
     "execution_count": 128,
     "metadata": {},
     "output_type": "execute_result"
    }
   ],
   "source": [
    "m1 = np.mean(Control)\n",
    "m2 = np.mean(Treat)\n",
    "s1 = np.std(Control)\n",
    "s2 = np.std(Treat)\n",
    "m1,m2,s1,s2"
   ]
  },
  {
   "cell_type": "code",
   "execution_count": 131,
   "metadata": {},
   "outputs": [
    {
     "data": {
      "text/plain": [
       "-3.7744795714432353"
      ]
     },
     "execution_count": 131,
     "metadata": {},
     "output_type": "execute_result"
    }
   ],
   "source": [
    "t1 = (m1-m2)/np.sqrt(((s1**2)/6) +((s2**2)/6))\n",
    "t1"
   ]
  },
  {
   "cell_type": "code",
   "execution_count": 133,
   "metadata": {},
   "outputs": [
    {
     "data": {
      "text/plain": [
       "0.0036347249007625724"
      ]
     },
     "execution_count": 133,
     "metadata": {},
     "output_type": "execute_result"
    }
   ],
   "source": [
    "df=10\n",
    "2*stats.t.cdf(t1,df)"
   ]
  },
  {
   "cell_type": "code",
   "execution_count": 134,
   "metadata": {},
   "outputs": [
    {
     "name": "stdout",
     "output_type": "stream",
     "text": [
      "decision : REJECT NULL HYPOTHESIS\n"
     ]
    }
   ],
   "source": [
    "print(\"decision : REJECT NULL HYPOTHESIS\")"
   ]
  },
  {
   "cell_type": "markdown",
   "metadata": {},
   "source": [
    "# A 2- PROPORTION  Z -TEST:"
   ]
  },
  {
   "cell_type": "markdown",
   "metadata": {},
   "source": [
    "Z = ((p1hat - p2 hat ) /(sqrt((phat(1-phat))(1/n1)-(1/n2)))"
   ]
  },
  {
   "cell_type": "markdown",
   "metadata": {},
   "source": [
    "# ANOVA AND CHI-SQUARE TEST"
   ]
  },
  {
   "cell_type": "markdown",
   "metadata": {},
   "source": [
    "ANOVA - analysis of variance\n",
    "* check if the mean of two groups or more  are statistically same or diffferent from each other.\n",
    "-----\n",
    "*                                        F-TEST TERMINOLLOGIES USED ARE:\n",
    "* GRAND MEAN:  it is the average of sample mean.\n",
    "* HYPOTHESIS:  \n",
    "            Ho  : myu1 = myu2  = myu3\n",
    "            Ha  : atleast one mean is different.\n",
    "   CALCULATION      \n",
    "1) SUM OF THE SQUARES WITHIN THE GROUP (SSWG)                                           [  DF = N-k ]  \n",
    "2) SUM OF SQUARES BETWEEN THE GROUP. USE GRAND MEAN INSTEAD OF MEAN IN VARIANCE. (SSBG)  [ DF =k-1]\n",
    "\n",
    "        F-RATIO = (SSBG/DF)/ (SSWG/DF)\n",
    "            if caulcated f-ratio > f-value   based on df, we reject Ho\n",
    "\n"
   ]
  },
  {
   "cell_type": "code",
   "execution_count": 136,
   "metadata": {},
   "outputs": [],
   "source": [
    "from scipy.stats import f_oneway"
   ]
  },
  {
   "cell_type": "code",
   "execution_count": 137,
   "metadata": {},
   "outputs": [],
   "source": [
    "at = pd.Series([6,2,3,4,2,3,3,2,7,8,10,4])\n",
    "gm = pd.Series([4,4,5,7,8,5,3,7,10,4,5,2])\n",
    "sb = pd.Series([6,7,5,6,8,7,8,9,6,5,5,12])"
   ]
  },
  {
   "cell_type": "code",
   "execution_count": 138,
   "metadata": {},
   "outputs": [
    {
     "data": {
      "text/plain": [
       "0      6\n",
       "1      2\n",
       "2      3\n",
       "3      4\n",
       "4      2\n",
       "5      3\n",
       "6      3\n",
       "7      2\n",
       "8      7\n",
       "9      8\n",
       "10    10\n",
       "11     4\n",
       "dtype: int64"
      ]
     },
     "execution_count": 138,
     "metadata": {},
     "output_type": "execute_result"
    }
   ],
   "source": [
    "at"
   ]
  },
  {
   "cell_type": "code",
   "execution_count": 139,
   "metadata": {},
   "outputs": [
    {
     "data": {
      "text/plain": [
       "F_onewayResult(statistic=3.5714285714285716, pvalue=0.03944058879825832)"
      ]
     },
     "execution_count": 139,
     "metadata": {},
     "output_type": "execute_result"
    }
   ],
   "source": [
    "#conduct the oneway ANOVA\n",
    "f_oneway(at,gm,sb)             # p-value < alpha(0.05), so Ho is rejected"
   ]
  },
  {
   "cell_type": "markdown",
   "metadata": {},
   "source": [
    "# chi square test\n",
    "*  for categorical columns, if the data is related or not can be found i.e \n",
    "whwether two qualtitative variables are related\n",
    "*    h0   = indepedndence\n",
    "*    ha    = dependence\n",
    "*    x**2 = E (Oi -Ei)**2/Ei"
   ]
  },
  {
   "cell_type": "code",
   "execution_count": null,
   "metadata": {},
   "outputs": [],
   "source": [
    "#chi2_contingency(data)"
   ]
  },
  {
   "cell_type": "code",
   "execution_count": null,
   "metadata": {},
   "outputs": [],
   "source": []
  }
 ],
 "metadata": {
  "kernelspec": {
   "display_name": "base",
   "language": "python",
   "name": "python3"
  },
  "language_info": {
   "codemirror_mode": {
    "name": "ipython",
    "version": 3
   },
   "file_extension": ".py",
   "mimetype": "text/x-python",
   "name": "python",
   "nbconvert_exporter": "python",
   "pygments_lexer": "ipython3",
   "version": "3.10.9"
  }
 },
 "nbformat": 4,
 "nbformat_minor": 2
}
