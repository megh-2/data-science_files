{
 "cells": [
  {
   "cell_type": "code",
   "execution_count": 3,
   "metadata": {},
   "outputs": [],
   "source": [
    "import numpy as np \n",
    "import pandas as pd \n",
    "import matplotlib.pyplot as plt \n",
    "from sklearn.model_selection import train_test_split\n",
    "from sklearn import datasets\n",
    "from sklearn.linear_model import LinearRegression"
   ]
  },
  {
   "cell_type": "code",
   "execution_count": 5,
   "metadata": {},
   "outputs": [],
   "source": [
    "# loading pre-defined boston dataset\n",
    "\n",
    "boston_dataset = datasets.load_boston()"
   ]
  },
  {
   "cell_type": "code",
   "execution_count": null,
   "metadata": {},
   "outputs": [],
   "source": [
    "# load the data and divide into x and y \n",
    "\n",
    "df =pd.DataFrame(boston_dataset.data)\n",
    "df.columns = boston_dataset.feature_names\n",
    "df_target = p.asarray(boston_dataset.target)\n",
    "df[\"House Price\"] = pd.Series(df_target)\n",
    "\n",
    "#input\n",
    "x =df.iloc[:,:-1]\n",
    "y = df.iloc[:,-1]"
   ]
  },
  {
   "cell_type": "code",
   "execution_count": null,
   "metadata": {},
   "outputs": [],
   "source": [
    "x"
   ]
  },
  {
   "cell_type": "code",
   "execution_count": null,
   "metadata": {},
   "outputs": [],
   "source": [
    "y"
   ]
  },
  {
   "cell_type": "code",
   "execution_count": null,
   "metadata": {},
   "outputs": [],
   "source": [
    "x_train,x_test,y_train,y_test = train_test_split(x,y,test_size=0.25)"
   ]
  },
  {
   "cell_type": "code",
   "execution_count": null,
   "metadata": {},
   "outputs": [],
   "source": [
    "#  multi linear regression model\n",
    "lreg =LinearRegression()\n",
    "lreg.fit(x_train,y_train)\n",
    "\n",
    "# generate Prediction on test data\n",
    "lreg_y_pred = lreg_predict(x_test)\n",
    "\n",
    "# claculating MSE\n",
    "mean_square_error = np.mean((lreg_y_pred - y_test)**2)\n",
    "print(\"MSE on test data :\",mean_square_error)\n",
    "\n",
    "# putting together the coefficient and their  coresponding variables names\n",
    "\n",
    "lreg_coefficient = pd.DataFrame()\n",
    "lreg_coefficient[\"Columns\"] = x_train.columns \n",
    "lreg_coefficient[\"coefficient Estimate\"] = pd.Series(lreg.coef_)\n",
    "print(lreg_coefficient)\n"
   ]
  },
  {
   "cell_type": "code",
   "execution_count": null,
   "metadata": {},
   "outputs": [],
   "source": [
    "import seaborn as Marital_Status_Singlesns.barplot(x = \"Coefficient Estimate\", y = \"columns\",data = lreg_)"
   ]
  },
  {
   "cell_type": "markdown",
   "metadata": {},
   "source": [
    "# regularisation methods"
   ]
  },
  {
   "cell_type": "code",
   "execution_count": null,
   "metadata": {},
   "outputs": [],
   "source": [
    "# ridge regression\n",
    "\n",
    "from sklearn.linear_model import Ridge\n",
    "\n",
    "# train the model\n",
    "ridgeR  =Ridge(alpha=1)\n",
    "ridgeR.fit(x_train,y_train)\n",
    "y_pred = ridgeR.predict(x_test)\n",
    "\n",
    "\n",
    "# cauclate MSE\n",
    "\n",
    "mse_ridge = np.mean((y_pred-y_test)**2)\n",
    "print(\"MSE :\"mse_ridge)\n",
    "\n",
    "# get ridge coefficent ann dprint them\n",
    "ridge_coeff = pd.DataFrame()\n",
    "ridge_coeff[\"Columns\"] = x_train.columns\n",
    "ridge_coeff[\"Coefficient estimate\"] = pd.Series(ridgeR.coef_)\n",
    "print(ridge_coeff)"
   ]
  },
  {
   "cell_type": "markdown",
   "metadata": {},
   "source": [
    "# lasso regression"
   ]
  },
  {
   "cell_type": "code",
   "execution_count": null,
   "metadata": {},
   "outputs": [],
   "source": [
    "# train the model\n",
    "\n",
    "from sklearn.linear_model import Lasso\n",
    "\n",
    "lasso= Lasso(alpha=1)\n",
    "lasso.fit(x_train,y_train)\n",
    "y_pred1 = lasso.predict(x_test)\n",
    "\n",
    "\n",
    "#calucluate MSE\n",
    "\n",
    "mse_lasso = np.mean((y_pred1 - y_test)**2)\n",
    "\n",
    "print(\"MSE of lassoo: \",mse_lasso)\n",
    "lasso_coef = pd.DataFrame()\n",
    "lasso_coef[\"Columns\"] = x_train.columns\n",
    "lasso_coef[\"Coefficient Estimmate\"] = pd.Series(lasso.coef_)\n",
    "print(lasso_coef)"
   ]
  },
  {
   "cell_type": "code",
   "execution_count": null,
   "metadata": {},
   "outputs": [],
   "source": []
  },
  {
   "cell_type": "markdown",
   "metadata": {},
   "source": [
    "# elasticnet"
   ]
  },
  {
   "cell_type": "code",
   "execution_count": null,
   "metadata": {},
   "outputs": [],
   "source": [
    "# train the model\n",
    "\n",
    "from sklearn.linear_model import ElasticNet\n",
    "\n",
    "e_net= ElasticNet(alpha=0.4,l1_ratio = 0.5)\n",
    "e_net.fit(x_train,y_train)\n",
    "y_pred_elastic = e_net.predict(x_test)\n",
    "\n",
    "\n",
    "#calucluate MSE\n",
    "\n",
    "mse_e_net = np.mean((y_pred_elastic - y_test)**2)\n",
    "\n",
    "print(\"MSE of e_net : \",mse_e_net)\n",
    "e_net_coef = pd.DataFrame()\n",
    "e_net_coef[\"Columns\"] = x_train.columns\n",
    "e_net_coef[\"Coefficient Estimmate\"] = pd.Series(e_net.coef_)\n",
    "print(e_net_coef)"
   ]
  },
  {
   "cell_type": "code",
   "execution_count": null,
   "metadata": {},
   "outputs": [],
   "source": []
  },
  {
   "cell_type": "code",
   "execution_count": null,
   "metadata": {},
   "outputs": [],
   "source": []
  },
  {
   "cell_type": "code",
   "execution_count": null,
   "metadata": {},
   "outputs": [],
   "source": []
  }
 ],
 "metadata": {
  "kernelspec": {
   "display_name": "base",
   "language": "python",
   "name": "python3"
  },
  "language_info": {
   "codemirror_mode": {
    "name": "ipython",
    "version": 3
   },
   "file_extension": ".py",
   "mimetype": "text/x-python",
   "name": "python",
   "nbconvert_exporter": "python",
   "pygments_lexer": "ipython3",
   "version": "3.10.9"
  }
 },
 "nbformat": 4,
 "nbformat_minor": 2
}
